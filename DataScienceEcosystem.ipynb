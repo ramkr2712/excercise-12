{
 "cells": [
  {
   "cell_type": "markdown",
   "id": "0aa99d55-9f8e-4346-ad80-9b7e38454e1b",
   "metadata": {},
   "source": [
    "# Data Science Tools and Ecosystem"
   ]
  },
  {
   "cell_type": "markdown",
   "id": "8d4e70e3-38f0-4498-97d8-b8daf17a32a9",
   "metadata": {},
   "source": [
    "In this notebook, Data Science Tools and Ecosystem are summarized.\n"
   ]
  },
  {
   "cell_type": "markdown",
   "id": "1f6d428b-ef18-4bfe-b54c-f3c092178e83",
   "metadata": {},
   "source": [
    "Some of the popular languages that Data Scientists use are:\n",
    "\n",
    "1. Python\n",
    "2. R\n",
    "3. SQL\n",
    "4. Julia\n"
   ]
  },
  {
   "cell_type": "markdown",
   "id": "da1befc3-0894-42e1-8e2e-de090e421af8",
   "metadata": {},
   "source": [
    "Some of the commonly used libraries used by Data Scientists include:\n",
    "\n",
    "1. Pandas\n",
    "2. NumPy\n",
    "3. Matplotlib\n",
    "4. Scikit-learn\n"
   ]
  },
  {
   "cell_type": "markdown",
   "id": "ea67d702-3626-4388-a09d-4227ba54fe55",
   "metadata": {},
   "source": [
    "| Data Science Tools |\n",
    "|--------------------|\n",
    "| Jupyter Notebook   |\n",
    "| RStudio            |\n",
    "| Apache Zeppelin    |\n"
   ]
  },
  {
   "cell_type": "markdown",
   "id": "4c3b4645-a401-41b5-b12f-bc2685dd56fc",
   "metadata": {},
   "source": [
    "### Below are a few examples of evaluating arithmetic expressions in Python.\r",
    "    |\r\n"
   ]
  },
  {
   "cell_type": "code",
   "execution_count": 19,
   "id": "0db8a56a-72c0-4827-90d8-92f5b675056d",
   "metadata": {},
   "outputs": [
    {
     "data": {
      "text/plain": [
       "17"
      ]
     },
     "execution_count": 19,
     "metadata": {},
     "output_type": "execute_result"
    }
   ],
   "source": [
    "# This is a simple arithmetic expression to multiply then add integers.\n",
    "result = (3 * 4) + 5\n",
    "result\n"
   ]
  },
  {
   "cell_type": "code",
   "execution_count": 21,
   "id": "cb9a921f-7b8b-4333-90f8-c081f8ccaea8",
   "metadata": {},
   "outputs": [
    {
     "data": {
      "text/plain": [
       "3.3333333333333335"
      ]
     },
     "execution_count": 21,
     "metadata": {},
     "output_type": "execute_result"
    }
   ],
   "source": [
    "# This will convert 200 minutes to hours by dividing by 60.\n",
    "minutes = 200\n",
    "hours = minutes / 60\n",
    "hours\n"
   ]
  },
  {
   "cell_type": "markdown",
   "id": "149367bd-7bbd-4534-ba46-bfeb6fcdf46d",
   "metadata": {},
   "source": [
    "**Objectives:**\r\n",
    "- **Popular languages for Data Science:**\r\n",
    "\r\n",
    "- Python\r\n",
    "- R\r\n",
    "- SQL\r\n",
    "- Julia\r\n",
    "- \n",
    "**Commonly used libraries in Data Science:**\r\n",
    "\r\n",
    "- Pandas\r\n",
    "- NumPy\r\n",
    "- Matplotlib\r\n",
    "- Scikit-learn\r\n",
    "- Tenso\n",
    "**Key Data Science Tools:**\r\n",
    "\r\n",
    "- Jupyter Notebook\r\n",
    "- RStudio\r\n",
    "- Apache Zeppelin\r\n",
    "- Google Colab\r\n",
    "- Visual Studio - **Demonstrate basic arithmetic operations in Python:**\r\n",
    "\r\n",
    "```python\r\n",
    "# Addition\r\n",
    "addition = 5 + 3\r\n",
    "print(\"Addition: 5 + 3 =\", addition)\r\n",
    "\r\n",
    "# Subtraction\r\n",
    "subtraction = 10 - 2\r\n",
    "print(\"Subtraction: 10 - 2 =\", subtraction)\r\n",
    "\r\n",
    "# Multiplication\r\n",
    "multiplication = 4 * 7\r\n",
    "print(\"Multiplication: 4 * 7 =\", multiplication)\r\n",
    "\r\n",
    "# Division\r\n",
    "division = 20 / 4\r\n",
    "print(\"Division: 20 / 4 =\", division)\r\n",
    "\r\n",
    "# Exponentiation\r\n",
    "exponentiation = 2 ** 3\r\n",
    "print(\"Exponentiation: 2 ** 3 =\", exponentiation)\r\n",
    "\r\n",
    "# Modulus\r\n",
    "modulus = 10 % 3\r\n",
    "print(\"Modul**Convert units of time in Python:**\r\n",
    "\r\n",
    "```python\r\n",
    "# Convert minutes to hours\r\n",
    "minutes = 200\r\n",
    "hours = minutes / 60\r\n",
    "print(\"200 minutes is equal to\", hours, \"hours\")\r\n",
    "\r\n",
    "# Convert hours to minutes\r\n",
    "hours = 5\r\n",
    "minutes = hours * 60\r\n",
    "print(\"5 hours is equal to\", minutes, \"minutes\")\r\n",
    "\r\n",
    "# Convert seconds to minutes\r\n",
    "seconds = 360\r\n",
    "minutes = seconds / 60\r\n",
    "print(\"360 seconds is equal to\", minutes, \"minutes\")\r\n",
    "\r\n",
    "# Convert days to hours\r\n",
    "days = 3\r\n",
    "hours = days * 24\r\n",
    "print(\"3 days is equal to\", hours, \"hours\")\r\n",
    "erations in Python\r\n",
    "- Convert units of time in Python\r\n"
   ]
  },
  {
   "cell_type": "code",
   "execution_count": null,
   "id": "ab13579b-e595-43ba-8caa-3d50c2b3c8f4",
   "metadata": {},
   "outputs": [],
   "source": []
  }
 ],
 "metadata": {
  "kernelspec": {
   "display_name": "Python 3 (ipykernel)",
   "language": "python",
   "name": "python3"
  },
  "language_info": {
   "codemirror_mode": {
    "name": "ipython",
    "version": 3
   },
   "file_extension": ".py",
   "mimetype": "text/x-python",
   "name": "python",
   "nbconvert_exporter": "python",
   "pygments_lexer": "ipython3",
   "version": "3.12.4"
  }
 },
 "nbformat": 4,
 "nbformat_minor": 5
}
